{
 "cells": [
  {
   "cell_type": "code",
   "execution_count": 1,
   "id": "523c337d",
   "metadata": {},
   "outputs": [],
   "source": [
    "import numpy as np\n",
    "import cv2 as cv\n",
    "import PIL.Image as Image"
   ]
  },
  {
   "cell_type": "code",
   "execution_count": 2,
   "id": "b3c5e140",
   "metadata": {},
   "outputs": [],
   "source": [
    "#function to return hue values \n",
    "def convert(color):\n",
    "    \n",
    "    c = np.uint8([[color]])\n",
    "    hsvC = cv.cvtColor(c, cv.COLOR_BGR2HSV)\n",
    "    hue = hsvC[0][0][0]\n",
    "    \n",
    "    \n",
    "    if hue >= 165:  # Upper limit for divided red hue\n",
    "        lowerLimit = np.array([hue - 10, 100, 100], dtype=np.uint8)\n",
    "        upperLimit = np.array([180, 255, 255], dtype=np.uint8)\n",
    "        \n",
    "    elif hue <= 15:  # Lower limit for divided red hue\n",
    "        lowerLimit = np.array([0, 100, 100], dtype=np.uint8)\n",
    "        upperLimit = np.array([hue + 10, 255, 255], dtype=np.uint8)\n",
    "        \n",
    "    else:\n",
    "        lowerLimit = np.array([hue - 10, 100, 100], dtype=np.uint8)\n",
    "        upperLimit = np.array([hue + 10, 255, 255], dtype=np.uint8)\n",
    "\n",
    "    return lowerLimit, upperLimit"
   ]
  },
  {
   "cell_type": "code",
   "execution_count": 27,
   "id": "9da3bdde",
   "metadata": {},
   "outputs": [],
   "source": [
    "lwr_bound =0\n",
    "upper_bound = 0\n",
    "def nothing(x):\n",
    "    pass\n",
    "def colorTrack():\n",
    "    cv.namedWindow(\"Color Picker\")\n",
    "    cv.createTrackbar(\"LH\",\"Color Picker\",0,255,nothing)\n",
    "    cv.createTrackbar(\"LS\",\"Color Picker\",0,255,nothing)\n",
    "    cv.createTrackbar(\"LV\",\"Color Picker\",0,255,nothing)\n",
    "    cv.createTrackbar(\"UH\",\"Color Picker\",255,255,nothing)\n",
    "    cv.createTrackbar(\"US\",\"Color Picker\",255,255,nothing)\n",
    "    cv.createTrackbar(\"UV\",\"Color Picker\",255,255,nothing)\n",
    "    \n",
    "    cap1 = cv.VideoCapture(0)\n",
    "    while True:\n",
    "        _, frame = cap1.read()\n",
    "        hsv = cv.cvtColor(frame, cv.COLOR_BGR2HSV)\n",
    "    \n",
    "        l_h = cv.getTrackbarPos(\"LH\", \"Color Picker\")\n",
    "        l_s = cv.getTrackbarPos(\"LS\", \"Color Picker\")\n",
    "        l_v = cv.getTrackbarPos(\"LV\", \"Color Picker\")\n",
    "        u_h = cv.getTrackbarPos(\"UH\", \"Color Picker\")\n",
    "        u_s = cv.getTrackbarPos(\"US\", \"Color Picker\")\n",
    "        u_v = cv.getTrackbarPos(\"UV\", \"Color Picker\")\n",
    "        \n",
    "        lwr_bound = np.array([l_h, l_s, l_v])\n",
    "        upper_bound = np.array([u_h, u_s, u_v])\n",
    "        \n",
    "        mask = cv.inRange(frame, lwr_bound, upper_bound)\n",
    "        res = cv.bitwise_and(frame, frame, mask=mask)\n",
    "        cv.imshow(\"result\",res)\n",
    "        cv.imshow(\"mask\",mask)\n",
    "        \n",
    "        if(cv.waitKey(1) == 27):\n",
    "            break\n",
    "    \n",
    "    cap1.release()\n",
    "    cv.destroyAllWindows()\n"
   ]
  },
  {
   "cell_type": "code",
   "execution_count": 28,
   "id": "f213969b",
   "metadata": {},
   "outputs": [],
   "source": [
    "colorTrack()"
   ]
  },
  {
   "cell_type": "code",
   "execution_count": 26,
   "id": "970582d2",
   "metadata": {},
   "outputs": [
    {
     "ename": "NameError",
     "evalue": "name 'lwr_bound' is not defined",
     "output_type": "error",
     "traceback": [
      "\u001b[1;31m---------------------------------------------------------------------------\u001b[0m",
      "\u001b[1;31mNameError\u001b[0m                                 Traceback (most recent call last)",
      "Cell \u001b[1;32mIn[26], line 1\u001b[0m\n\u001b[1;32m----> 1\u001b[0m \u001b[38;5;28mprint\u001b[39m(lwr_bound,upper_bound)\n",
      "\u001b[1;31mNameError\u001b[0m: name 'lwr_bound' is not defined"
     ]
    }
   ],
   "source": [
    "print(lwr_bound,upper_bound)"
   ]
  },
  {
   "cell_type": "code",
   "execution_count": 7,
   "id": "277d345f",
   "metadata": {},
   "outputs": [],
   "source": [
    "lwr = np.array([50,130,100])\n",
    "upper = np.array([127, 184,113])"
   ]
  },
  {
   "cell_type": "code",
   "execution_count": 17,
   "id": "11dadff2",
   "metadata": {},
   "outputs": [
    {
     "name": "stdout",
     "output_type": "stream",
     "text": [
      "[  0 100 100] [ 10 255 255]\n"
     ]
    }
   ],
   "source": [
    "# color = [0,0,255] #Orange color to detect as per BGR values\n",
    "# lwr_1,upper_1 = convert(color)\n",
    "# print(lwr_1,upper_1)"
   ]
  },
  {
   "cell_type": "code",
   "execution_count": 21,
   "id": "58a4b644",
   "metadata": {},
   "outputs": [],
   "source": [
    "#The main code\n",
    "\n",
    "cap = cv.VideoCapture(0)\n",
    "\n",
    "while True:\n",
    "    _,frame = cap.read()\n",
    "#     hsv = cv.cvtColor(frame, cv.COLOR_BGR2HSV)\n",
    "    lwr,upper = convert(color)\n",
    "    \n",
    "    mask = cv.inRange(frame, lwr, upper)\n",
    "    mask_ = Image.fromarray(mask) #converts np array to PIL\n",
    "    bbox = mask_.getbbox()\n",
    "    \n",
    "    if bbox is not None:\n",
    "        x1,y1,x2,y2 = bbox\n",
    "        frame = cv.rectangle(frame, (x1,y1),(x2,y2), (0,255,0),4)\n",
    "    \n",
    "    cv.imshow(\"video\",frame)\n",
    "    \n",
    "    if cv.waitKey(1) == 27:\n",
    "        break\n",
    "cap.release()\n",
    "cv.destroyAllWindows()"
   ]
  },
  {
   "cell_type": "code",
   "execution_count": null,
   "id": "f70bf7fd",
   "metadata": {},
   "outputs": [],
   "source": []
  }
 ],
 "metadata": {
  "kernelspec": {
   "display_name": "Python 3 (ipykernel)",
   "language": "python",
   "name": "python3"
  },
  "language_info": {
   "codemirror_mode": {
    "name": "ipython",
    "version": 3
   },
   "file_extension": ".py",
   "mimetype": "text/x-python",
   "name": "python",
   "nbconvert_exporter": "python",
   "pygments_lexer": "ipython3",
   "version": "3.11.5"
  }
 },
 "nbformat": 4,
 "nbformat_minor": 5
}
